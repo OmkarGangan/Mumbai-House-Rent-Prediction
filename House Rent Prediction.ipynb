{
 "cells": [
  {
   "cell_type": "markdown",
   "metadata": {},
   "source": [
    "# House Rent Prediction"
   ]
  },
  {
   "cell_type": "markdown",
   "metadata": {},
   "source": [
    "### Table of Content\n",
    "1. [Import Libraries](#Import_Libraries)\n",
    "2. [Read Data](#Read_Data)\n",
    "3. [Data Inspection](#Data_Inspection)\n",
    "4. [Data Pre-processing](#Data_Pre-processing)\n",
    "5. [Missing Values](#Missing_Values)\n",
    "6. [Outliers](#Outliers)\n",
    "7. [Visualization](#Visualization)\n",
    "8. [Label Encoding](#Label_Encoding)\n",
    "9. [Model Building](#Model_Building)\n",
    "    * [Linear Regression](#Linear_Regression)\n",
    "    * [Decision Tree](#Decision_Tree)\n",
    "    * [Random Forest](#Random_Forest)\n",
    "    * [Extra Tree Regressor](#Extra_Tree_Regressor)\n",
    "    * [Gradient Boost](#Gradient_Boost)\n",
    "    * [XG Boost](#XG_Boost)\n",
    "    * [Ada Boost](#Ada_Boost)\n",
    "    \n",
    "10. [Model Performance Comparison](#Comparison)\n",
    "11. [Voting Classifier](#Voting)\n",
    "12. [Model Dump](#Dump)\n",
    "\n",
    "\n",
    "\n"
   ]
  },
  {
   "cell_type": "markdown",
   "metadata": {},
   "source": [
    "# Import Libraries\n",
    "<a class=\"anchor\" id=\"Import_Libraries\"></a>"
   ]
  },
  {
   "cell_type": "code",
   "execution_count": 1,
   "metadata": {},
   "outputs": [],
   "source": [
    "import numpy as np \n",
    "import matplotlib.pyplot as plt \n",
    "import pandas as pd  \n",
    "import seaborn as sns\n",
    "import warnings\n",
    "warnings.filterwarnings('ignore')"
   ]
  },
  {
   "cell_type": "markdown",
   "metadata": {},
   "source": [
    "# Read Data\n",
    "<a class=\"anchor\" id=\"Read_Data\"></a>"
   ]
  },
  {
   "cell_type": "code",
   "execution_count": 2,
   "metadata": {},
   "outputs": [],
   "source": [
    "df = pd.read_csv('Mumbai_House_Rent.csv')"
   ]
  },
  {
   "cell_type": "markdown",
   "metadata": {},
   "source": [
    "# Data Inspection\n",
    "<a class=\"anchor\" id=\"Data_Inspection\"></a>"
   ]
  },
  {
   "cell_type": "code",
   "execution_count": 3,
   "metadata": {},
   "outputs": [
    {
     "data": {
      "text/html": [
       "<div>\n",
       "<style scoped>\n",
       "    .dataframe tbody tr th:only-of-type {\n",
       "        vertical-align: middle;\n",
       "    }\n",
       "\n",
       "    .dataframe tbody tr th {\n",
       "        vertical-align: top;\n",
       "    }\n",
       "\n",
       "    .dataframe thead th {\n",
       "        text-align: right;\n",
       "    }\n",
       "</style>\n",
       "<table border=\"1\" class=\"dataframe\">\n",
       "  <thead>\n",
       "    <tr style=\"text-align: right;\">\n",
       "      <th></th>\n",
       "      <th>Locality</th>\n",
       "      <th>Type</th>\n",
       "      <th>Rent/Month</th>\n",
       "      <th>Build_up_area(sq.ft)</th>\n",
       "      <th>Furnishing</th>\n",
       "      <th>Bathrooms</th>\n",
       "      <th>Balcony</th>\n",
       "      <th>Parking</th>\n",
       "      <th>Carpet_area(sq.ft)</th>\n",
       "    </tr>\n",
       "  </thead>\n",
       "  <tbody>\n",
       "    <tr>\n",
       "      <th>0</th>\n",
       "      <td>Andheri</td>\n",
       "      <td>1 RK Apartment</td>\n",
       "      <td>20000</td>\n",
       "      <td>350 sq.ft</td>\n",
       "      <td>Semi Furnished</td>\n",
       "      <td>1</td>\n",
       "      <td>Missing</td>\n",
       "      <td>0.0</td>\n",
       "      <td>250 sq.ft</td>\n",
       "    </tr>\n",
       "    <tr>\n",
       "      <th>1</th>\n",
       "      <td>Andheri</td>\n",
       "      <td>3 BHK Apartment</td>\n",
       "      <td>100000</td>\n",
       "      <td>1850 sq.ft</td>\n",
       "      <td>Semi Furnished</td>\n",
       "      <td>3</td>\n",
       "      <td>1</td>\n",
       "      <td>2.0</td>\n",
       "      <td>1400 sq.ft</td>\n",
       "    </tr>\n",
       "    <tr>\n",
       "      <th>2</th>\n",
       "      <td>Andheri</td>\n",
       "      <td>2 BHK Apartment</td>\n",
       "      <td>45000</td>\n",
       "      <td>1240 sq.ft</td>\n",
       "      <td>Semi Furnished</td>\n",
       "      <td>2</td>\n",
       "      <td>4</td>\n",
       "      <td>1.0</td>\n",
       "      <td>850 sq.ft</td>\n",
       "    </tr>\n",
       "    <tr>\n",
       "      <th>3</th>\n",
       "      <td>Andheri</td>\n",
       "      <td>1 BHK Apartment</td>\n",
       "      <td>31500</td>\n",
       "      <td>650 sq.ft</td>\n",
       "      <td>Unfurnished</td>\n",
       "      <td>2</td>\n",
       "      <td>Missing</td>\n",
       "      <td>1.0</td>\n",
       "      <td>425 sq.ft</td>\n",
       "    </tr>\n",
       "    <tr>\n",
       "      <th>4</th>\n",
       "      <td>Andheri</td>\n",
       "      <td>2 BHK Apartment</td>\n",
       "      <td>44000</td>\n",
       "      <td>1250 sq.ft</td>\n",
       "      <td>Unfurnished</td>\n",
       "      <td>2</td>\n",
       "      <td>3</td>\n",
       "      <td>1.0</td>\n",
       "      <td>800 sq.ft</td>\n",
       "    </tr>\n",
       "  </tbody>\n",
       "</table>\n",
       "</div>"
      ],
      "text/plain": [
       "  Locality             Type  Rent/Month Build_up_area(sq.ft)      Furnishing  \\\n",
       "0  Andheri   1 RK Apartment       20000            350 sq.ft  Semi Furnished   \n",
       "1  Andheri  3 BHK Apartment      100000           1850 sq.ft  Semi Furnished   \n",
       "2  Andheri  2 BHK Apartment       45000           1240 sq.ft  Semi Furnished   \n",
       "3  Andheri  1 BHK Apartment       31500            650 sq.ft     Unfurnished   \n",
       "4  Andheri  2 BHK Apartment       44000           1250 sq.ft     Unfurnished   \n",
       "\n",
       "  Bathrooms  Balcony  Parking Carpet_area(sq.ft)  \n",
       "0         1  Missing      0.0          250 sq.ft  \n",
       "1         3        1      2.0         1400 sq.ft  \n",
       "2         2        4      1.0          850 sq.ft  \n",
       "3         2  Missing      1.0          425 sq.ft  \n",
       "4         2        3      1.0          800 sq.ft  "
      ]
     },
     "execution_count": 3,
     "metadata": {},
     "output_type": "execute_result"
    }
   ],
   "source": [
    "df.head()"
   ]
  },
  {
   "cell_type": "code",
   "execution_count": 4,
   "metadata": {},
   "outputs": [
    {
     "data": {
      "text/plain": [
       "(15386, 9)"
      ]
     },
     "execution_count": 4,
     "metadata": {},
     "output_type": "execute_result"
    }
   ],
   "source": [
    "df.shape"
   ]
  },
  {
   "cell_type": "code",
   "execution_count": 5,
   "metadata": {},
   "outputs": [
    {
     "data": {
      "text/plain": [
       "Locality                 object\n",
       "Type                     object\n",
       "Rent/Month                int64\n",
       "Build_up_area(sq.ft)     object\n",
       "Furnishing               object\n",
       "Bathrooms                object\n",
       "Balcony                  object\n",
       "Parking                 float64\n",
       "Carpet_area(sq.ft)       object\n",
       "dtype: object"
      ]
     },
     "execution_count": 5,
     "metadata": {},
     "output_type": "execute_result"
    }
   ],
   "source": [
    "df.dtypes"
   ]
  },
  {
   "cell_type": "markdown",
   "metadata": {},
   "source": [
    "Bathroom Column"
   ]
  },
  {
   "cell_type": "code",
   "execution_count": 6,
   "metadata": {},
   "outputs": [
    {
     "data": {
      "text/plain": [
       "array(['1', '3', '2', 'Missing', '4', '5', '6', '7'], dtype=object)"
      ]
     },
     "execution_count": 6,
     "metadata": {},
     "output_type": "execute_result"
    }
   ],
   "source": [
    "df.Bathrooms.unique()"
   ]
  },
  {
   "cell_type": "code",
   "execution_count": 7,
   "metadata": {},
   "outputs": [],
   "source": [
    "df.Bathrooms.replace('Missing',np.nan,inplace=True)"
   ]
  },
  {
   "cell_type": "markdown",
   "metadata": {},
   "source": [
    "Balcony Column"
   ]
  },
  {
   "cell_type": "code",
   "execution_count": 8,
   "metadata": {},
   "outputs": [
    {
     "data": {
      "text/plain": [
       "array(['Missing', '1', '4', '3', '2', '5', '6'], dtype=object)"
      ]
     },
     "execution_count": 8,
     "metadata": {},
     "output_type": "execute_result"
    }
   ],
   "source": [
    "df.Balcony.unique()"
   ]
  },
  {
   "cell_type": "code",
   "execution_count": 9,
   "metadata": {},
   "outputs": [],
   "source": [
    "df.Balcony.replace('Missing',np.nan,inplace=True)"
   ]
  },
  {
   "cell_type": "markdown",
   "metadata": {},
   "source": [
    "Build_up_area column"
   ]
  },
  {
   "cell_type": "code",
   "execution_count": 10,
   "metadata": {},
   "outputs": [],
   "source": [
    "df['Build_up_area(sq.ft)']=df['Build_up_area(sq.ft)'].str.split().str[0]"
   ]
  },
  {
   "cell_type": "code",
   "execution_count": 11,
   "metadata": {},
   "outputs": [],
   "source": [
    "df['Build_up_area(sq.ft)'] = df['Build_up_area(sq.ft)'].astype('int')"
   ]
  },
  {
   "cell_type": "code",
   "execution_count": 12,
   "metadata": {},
   "outputs": [
    {
     "data": {
      "text/plain": [
       "Locality                 object\n",
       "Type                     object\n",
       "Rent/Month                int64\n",
       "Build_up_area(sq.ft)      int32\n",
       "Furnishing               object\n",
       "Bathrooms                object\n",
       "Balcony                  object\n",
       "Parking                 float64\n",
       "Carpet_area(sq.ft)       object\n",
       "dtype: object"
      ]
     },
     "execution_count": 12,
     "metadata": {},
     "output_type": "execute_result"
    }
   ],
   "source": [
    "df.dtypes"
   ]
  },
  {
   "cell_type": "markdown",
   "metadata": {},
   "source": [
    "Carpet Area"
   ]
  },
  {
   "cell_type": "code",
   "execution_count": 13,
   "metadata": {},
   "outputs": [],
   "source": [
    "df['Carpet_area(sq.ft)'].replace('Missing',0,inplace=True)"
   ]
  },
  {
   "cell_type": "code",
   "execution_count": 14,
   "metadata": {},
   "outputs": [],
   "source": [
    "df['Carpet_area(sq.ft)']=df['Carpet_area(sq.ft)'].str.split().str[0]"
   ]
  },
  {
   "cell_type": "code",
   "execution_count": 15,
   "metadata": {},
   "outputs": [],
   "source": [
    "def to_num(s):\n",
    "    if type(s)==str:\n",
    "        return int(s)\n",
    "    else:\n",
    "        return s"
   ]
  },
  {
   "cell_type": "code",
   "execution_count": 16,
   "metadata": {},
   "outputs": [],
   "source": [
    "df['Carpet_area(sq.ft)'] = df['Carpet_area(sq.ft)'].apply(to_num)"
   ]
  },
  {
   "cell_type": "code",
   "execution_count": 17,
   "metadata": {},
   "outputs": [
    {
     "data": {
      "text/plain": [
       "<AxesSubplot:>"
      ]
     },
     "execution_count": 17,
     "metadata": {},
     "output_type": "execute_result"
    },
    {
     "data": {
      "image/png": "[encoded data removed]",
      "text/plain": [
       "<Figure size 432x288 with 2 Axes>"
      ]
     },
     "metadata": {
      "needs_background": "light"
     },
     "output_type": "display_data"
    }
   ],
   "source": [
    "sns.heatmap(df.corr(),annot=True)"
   ]
  },
  {
   "cell_type": "markdown",
   "metadata": {},
   "source": [
    "Build_up_area and Carpet area are strongly correlated with each other so dropping Carpet area column"
   ]
  },
  {
   "cell_type": "code",
   "execution_count": 18,
   "metadata": {},
   "outputs": [],
   "source": [
    "df.drop('Carpet_area(sq.ft)',axis=1,inplace=True)"
   ]
  },
  {
   "cell_type": "code",
   "execution_count": 19,
   "metadata": {},
   "outputs": [
    {
     "data": {
      "text/html": [
       "<div>\n",
       "<style scoped>\n",
       "    .dataframe tbody tr th:only-of-type {\n",
       "        vertical-align: middle;\n",
       "    }\n",
       "\n",
       "    .dataframe tbody tr th {\n",
       "        vertical-align: top;\n",
       "    }\n",
       "\n",
       "    .dataframe thead th {\n",
       "        text-align: right;\n",
       "    }\n",
       "</style>\n",
       "<table border=\"1\" class=\"dataframe\">\n",
       "  <thead>\n",
       "    <tr style=\"text-align: right;\">\n",
       "      <th></th>\n",
       "      <th>count</th>\n",
       "      <th>mean</th>\n",
       "      <th>std</th>\n",
       "      <th>min</th>\n",
       "      <th>25%</th>\n",
       "      <th>50%</th>\n",
       "      <th>75%</th>\n",
       "      <th>max</th>\n",
       "    </tr>\n",
       "  </thead>\n",
       "  <tbody>\n",
       "    <tr>\n",
       "      <th>Rent/Month</th>\n",
       "      <td>15386.0</td>\n",
       "      <td>54306.799363</td>\n",
       "      <td>43373.356708</td>\n",
       "      <td>3500.0</td>\n",
       "      <td>30000.0</td>\n",
       "      <td>43000.0</td>\n",
       "      <td>65000.0</td>\n",
       "      <td>1000000.0</td>\n",
       "    </tr>\n",
       "    <tr>\n",
       "      <th>Build_up_area(sq.ft)</th>\n",
       "      <td>15386.0</td>\n",
       "      <td>909.017873</td>\n",
       "      <td>439.382630</td>\n",
       "      <td>110.0</td>\n",
       "      <td>600.0</td>\n",
       "      <td>850.0</td>\n",
       "      <td>1150.0</td>\n",
       "      <td>5200.0</td>\n",
       "    </tr>\n",
       "    <tr>\n",
       "      <th>Parking</th>\n",
       "      <td>15351.0</td>\n",
       "      <td>0.971272</td>\n",
       "      <td>0.672316</td>\n",
       "      <td>0.0</td>\n",
       "      <td>1.0</td>\n",
       "      <td>1.0</td>\n",
       "      <td>1.0</td>\n",
       "      <td>4.0</td>\n",
       "    </tr>\n",
       "  </tbody>\n",
       "</table>\n",
       "</div>"
      ],
      "text/plain": [
       "                        count          mean           std     min      25%  \\\n",
       "Rent/Month            15386.0  54306.799363  43373.356708  3500.0  30000.0   \n",
       "Build_up_area(sq.ft)  15386.0    909.017873    439.382630   110.0    600.0   \n",
       "Parking               15351.0      0.971272      0.672316     0.0      1.0   \n",
       "\n",
       "                          50%      75%        max  \n",
       "Rent/Month            43000.0  65000.0  1000000.0  \n",
       "Build_up_area(sq.ft)    850.0   1150.0     5200.0  \n",
       "Parking                   1.0      1.0        4.0  "
      ]
     },
     "execution_count": 19,
     "metadata": {},
     "output_type": "execute_result"
    }
   ],
   "source": [
    "df.describe().T"
   ]
  },
  {
   "cell_type": "markdown",
   "metadata": {},
   "source": [
    "# EDA"
   ]
  },
  {
   "cell_type": "markdown",
   "metadata": {},
   "source": [
    "# Checking Missing Values\n",
    "<a class=\"anchor\" id=\"Missing_Values\"></a>"
   ]
  },
  {
   "cell_type": "code",
   "execution_count": 20,
   "metadata": {},
   "outputs": [
    {
     "data": {
      "text/plain": [
       "Locality                   0\n",
       "Type                       0\n",
       "Rent/Month                 0\n",
       "Build_up_area(sq.ft)       0\n",
       "Furnishing                 0\n",
       "Bathrooms                404\n",
       "Balcony                 9272\n",
       "Parking                   35\n",
       "dtype: int64"
      ]
     },
     "execution_count": 20,
     "metadata": {},
     "output_type": "execute_result"
    }
   ],
   "source": [
    "df.isna().sum()"
   ]
  },
  {
   "cell_type": "markdown",
   "metadata": {},
   "source": [
    "Handling missing values"
   ]
  },
  {
   "cell_type": "markdown",
   "metadata": {},
   "source": [
    "Parking Column"
   ]
  },
  {
   "cell_type": "code",
   "execution_count": 21,
   "metadata": {},
   "outputs": [
    {
     "data": {
      "text/plain": [
       "1.0"
      ]
     },
     "execution_count": 21,
     "metadata": {},
     "output_type": "execute_result"
    }
   ],
   "source": [
    "df.Parking.mode()[0]"
   ]
  },
  {
   "cell_type": "code",
   "execution_count": 22,
   "metadata": {},
   "outputs": [],
   "source": [
    "df.Parking.fillna(df.Parking.mode()[0],inplace=True)"
   ]
  },
  {
   "cell_type": "markdown",
   "metadata": {},
   "source": [
    "Bathroom Column"
   ]
  },
  {
   "cell_type": "markdown",
   "metadata": {},
   "source": [
    "1 RK Apartment"
   ]
  },
  {
   "cell_type": "code",
   "execution_count": 23,
   "metadata": {},
   "outputs": [
    {
     "data": {
      "text/plain": [
       "'1'"
      ]
     },
     "execution_count": 23,
     "metadata": {},
     "output_type": "execute_result"
    }
   ],
   "source": [
    "df[df.Type=='1 RK Apartment']['Bathrooms'].mode()[0]"
   ]
  },
  {
   "cell_type": "code",
   "execution_count": 24,
   "metadata": {},
   "outputs": [],
   "source": [
    "i = df[(df.Type=='1 RK Apartment')&(df.Bathrooms.isna())].index"
   ]
  },
  {
   "cell_type": "code",
   "execution_count": 25,
   "metadata": {},
   "outputs": [
    {
     "data": {
      "text/plain": [
       "Int64Index([ 2522,  2647,  3752,  3892,  4151,  4163,  4219,  4680,  4692,\n",
       "             4696,\n",
       "            ...\n",
       "            13752, 13792, 13800, 13851, 14319, 14325, 14344, 14402, 14407,\n",
       "            15141],\n",
       "           dtype='int64', length=108)"
      ]
     },
     "execution_count": 25,
     "metadata": {},
     "output_type": "execute_result"
    }
   ],
   "source": [
    "i"
   ]
  },
  {
   "cell_type": "code",
   "execution_count": 26,
   "metadata": {},
   "outputs": [],
   "source": [
    "df.loc[i,'Bathrooms'] = 1"
   ]
  },
  {
   "cell_type": "markdown",
   "metadata": {},
   "source": [
    "1 BHK Apartment"
   ]
  },
  {
   "cell_type": "code",
   "execution_count": 27,
   "metadata": {},
   "outputs": [
    {
     "data": {
      "text/plain": [
       "'1'"
      ]
     },
     "execution_count": 27,
     "metadata": {},
     "output_type": "execute_result"
    }
   ],
   "source": [
    "df[df.Type=='1 BHK Apartment']['Bathrooms'].mode()[0]"
   ]
  },
  {
   "cell_type": "code",
   "execution_count": 28,
   "metadata": {},
   "outputs": [
    {
     "data": {
      "text/plain": [
       "Int64Index([  191,   465,   603,  1118,  1329,  1756,  2199,  2332,  2334,\n",
       "             2335,\n",
       "            ...\n",
       "            14326, 14356, 14357, 15125, 15128, 15163, 15164, 15181, 15202,\n",
       "            15218],\n",
       "           dtype='int64', length=159)"
      ]
     },
     "execution_count": 28,
     "metadata": {},
     "output_type": "execute_result"
    }
   ],
   "source": [
    "i = df[(df.Type=='1 BHK Apartment')&(df.Bathrooms.isna())].index\n",
    "i"
   ]
  },
  {
   "cell_type": "code",
   "execution_count": 29,
   "metadata": {},
   "outputs": [],
   "source": [
    "df.loc[i,'Bathrooms'] = 1"
   ]
  },
  {
   "cell_type": "markdown",
   "metadata": {},
   "source": [
    "2 BHK Apartment"
   ]
  },
  {
   "cell_type": "code",
   "execution_count": 30,
   "metadata": {},
   "outputs": [
    {
     "data": {
      "text/plain": [
       "0    2\n",
       "dtype: object"
      ]
     },
     "execution_count": 30,
     "metadata": {},
     "output_type": "execute_result"
    }
   ],
   "source": [
    "df[df.Type=='2 BHK Apartment']['Bathrooms'].mode()"
   ]
  },
  {
   "cell_type": "code",
   "execution_count": 31,
   "metadata": {},
   "outputs": [
    {
     "data": {
      "text/plain": [
       "Int64Index([  343,   355,   742,  1595,  1624,  2051,  2180,  2234,  2242,\n",
       "             2271,\n",
       "            ...\n",
       "            14032, 14199, 14339, 14355, 14512, 14513, 14543, 15127, 15183,\n",
       "            15232],\n",
       "           dtype='int64', length=103)"
      ]
     },
     "execution_count": 31,
     "metadata": {},
     "output_type": "execute_result"
    }
   ],
   "source": [
    "i = df[(df.Type=='2 BHK Apartment')&(df.Bathrooms.isna())].index\n",
    "i"
   ]
  },
  {
   "cell_type": "code",
   "execution_count": 32,
   "metadata": {},
   "outputs": [],
   "source": [
    "df.loc[i,'Bathrooms'] = 2"
   ]
  },
  {
   "cell_type": "markdown",
   "metadata": {},
   "source": [
    "3 BHK Apartment"
   ]
  },
  {
   "cell_type": "code",
   "execution_count": 33,
   "metadata": {},
   "outputs": [
    {
     "data": {
      "text/plain": [
       "0    3\n",
       "dtype: object"
      ]
     },
     "execution_count": 33,
     "metadata": {},
     "output_type": "execute_result"
    }
   ],
   "source": [
    "df[df.Type=='3 BHK Apartment']['Bathrooms'].mode()"
   ]
  },
  {
   "cell_type": "code",
   "execution_count": 34,
   "metadata": {},
   "outputs": [
    {
     "data": {
      "text/plain": [
       "Int64Index([   33,   474,  1003,  1780,  2381,  2431,  4669,  4831,  6183,\n",
       "             7204,  7206,  8737,  8765,  8869,  8873,  9826, 10186, 10483,\n",
       "            10489, 10760, 10761, 11093, 11858, 11872, 13242, 13243, 13516,\n",
       "            13523, 13909, 13949, 14335, 14383, 14399, 14690],\n",
       "           dtype='int64')"
      ]
     },
     "execution_count": 34,
     "metadata": {},
     "output_type": "execute_result"
    }
   ],
   "source": [
    "i = df[(df.Type=='3 BHK Apartment')&(df.Bathrooms.isna())].index\n",
    "i"
   ]
  },
  {
   "cell_type": "code",
   "execution_count": 35,
   "metadata": {},
   "outputs": [],
   "source": [
    "df.loc[i,'Bathrooms']=3"
   ]
  },
  {
   "cell_type": "markdown",
   "metadata": {},
   "source": [
    "Handling missing values of Balcony column "
   ]
  },
  {
   "cell_type": "code",
   "execution_count": 36,
   "metadata": {},
   "outputs": [
    {
     "data": {
      "text/plain": [
       "'1'"
      ]
     },
     "execution_count": 36,
     "metadata": {},
     "output_type": "execute_result"
    }
   ],
   "source": [
    "df.Balcony.mode()[0]"
   ]
  },
  {
   "cell_type": "code",
   "execution_count": 37,
   "metadata": {},
   "outputs": [],
   "source": [
    "df.Balcony.fillna(df.Balcony.mode()[0],inplace=True)"
   ]
  },
  {
   "cell_type": "code",
   "execution_count": 38,
   "metadata": {},
   "outputs": [
    {
     "data": {
      "text/plain": [
       "Locality                0\n",
       "Type                    0\n",
       "Rent/Month              0\n",
       "Build_up_area(sq.ft)    0\n",
       "Furnishing              0\n",
       "Bathrooms               0\n",
       "Balcony                 0\n",
       "Parking                 0\n",
       "dtype: int64"
      ]
     },
     "execution_count": 38,
     "metadata": {},
     "output_type": "execute_result"
    }
   ],
   "source": [
    "df.isna().sum()"
   ]
  },
  {
   "cell_type": "code",
   "execution_count": 39,
   "metadata": {},
   "outputs": [
    {
     "data": {
      "text/plain": [
       "Locality                 object\n",
       "Type                     object\n",
       "Rent/Month                int64\n",
       "Build_up_area(sq.ft)      int32\n",
       "Furnishing               object\n",
       "Bathrooms                object\n",
       "Balcony                  object\n",
       "Parking                 float64\n",
       "dtype: object"
      ]
     },
     "execution_count": 39,
     "metadata": {},
     "output_type": "execute_result"
    }
   ],
   "source": [
    "df.dtypes"
   ]
  },
  {
   "cell_type": "code",
   "execution_count": 40,
   "metadata": {},
   "outputs": [],
   "source": [
    "df.Balcony = df.Balcony.astype('int')\n",
    "df.Bathrooms = df.Bathrooms.astype('int')"
   ]
  },
  {
   "cell_type": "markdown",
   "metadata": {},
   "source": [
    "# Checking Outliers\n",
    "<a class=\"anchor\" id=\"Outliers\"></a>"
   ]
  },
  {
   "cell_type": "code",
   "execution_count": 41,
   "metadata": {},
   "outputs": [
    {
     "data": {
      "image/png": "[encoded data removed]",
      "text/plain": [
       "<Figure size 1080x576 with 5 Axes>"
      ]
     },
     "metadata": {
      "needs_background": "light"
     },
     "output_type": "display_data"
    }
   ],
   "source": [
    "i=1\n",
    "plt.figure(figsize=(15,8))\n",
    "for x in df.columns:\n",
    "    if df[x].dtypes != 'O':\n",
    "        plt.subplot(2,3,i)\n",
    "        plt.title(x)\n",
    "        sns.boxplot(y=df[x])\n",
    "        i+=1"
   ]
  },
  {
   "cell_type": "code",
   "execution_count": 42,
   "metadata": {},
   "outputs": [
    {
     "data": {
      "text/plain": [
       "Int64Index([1430, 4680, 9163, 10610, 10616, 12121, 13296], dtype='int64')"
      ]
     },
     "execution_count": 42,
     "metadata": {},
     "output_type": "execute_result"
    }
   ],
   "source": [
    "# funnction to return index for column that have data points greater than given limit\n",
    "def outs(df,col,limit):\n",
    "    index = []\n",
    "    index = df[df[col]>limit].index\n",
    "\n",
    "    return index\n",
    "\n",
    "ind = outs(df,'Rent/Month',400000)\n",
    "ind"
   ]
  },
  {
   "cell_type": "markdown",
   "metadata": {},
   "source": [
    "Handling Outliers of Rent per month column"
   ]
  },
  {
   "cell_type": "code",
   "execution_count": 43,
   "metadata": {},
   "outputs": [
    {
     "data": {
      "text/html": [
       "<div>\n",
       "<style scoped>\n",
       "    .dataframe tbody tr th:only-of-type {\n",
       "        vertical-align: middle;\n",
       "    }\n",
       "\n",
       "    .dataframe tbody tr th {\n",
       "        vertical-align: top;\n",
       "    }\n",
       "\n",
       "    .dataframe thead th {\n",
       "        text-align: right;\n",
       "    }\n",
       "</style>\n",
       "<table border=\"1\" class=\"dataframe\">\n",
       "  <thead>\n",
       "    <tr style=\"text-align: right;\">\n",
       "      <th></th>\n",
       "      <th>Locality</th>\n",
       "      <th>Type</th>\n",
       "      <th>Rent/Month</th>\n",
       "      <th>Build_up_area(sq.ft)</th>\n",
       "      <th>Furnishing</th>\n",
       "      <th>Bathrooms</th>\n",
       "      <th>Balcony</th>\n",
       "      <th>Parking</th>\n",
       "    </tr>\n",
       "  </thead>\n",
       "  <tbody>\n",
       "    <tr>\n",
       "      <th>1430</th>\n",
       "      <td>Bandra</td>\n",
       "      <td>3 BHK Apartment</td>\n",
       "      <td>500000</td>\n",
       "      <td>1500</td>\n",
       "      <td>Fully Furnished</td>\n",
       "      <td>3</td>\n",
       "      <td>3</td>\n",
       "      <td>1.0</td>\n",
       "    </tr>\n",
       "    <tr>\n",
       "      <th>4680</th>\n",
       "      <td>Ghatkopar</td>\n",
       "      <td>1 RK Apartment</td>\n",
       "      <td>1000000</td>\n",
       "      <td>225</td>\n",
       "      <td>Semi Furnished</td>\n",
       "      <td>1</td>\n",
       "      <td>1</td>\n",
       "      <td>2.0</td>\n",
       "    </tr>\n",
       "    <tr>\n",
       "      <th>9163</th>\n",
       "      <td>Malabar Hill</td>\n",
       "      <td>3 BHK Apartment</td>\n",
       "      <td>450000</td>\n",
       "      <td>2250</td>\n",
       "      <td>Fully Furnished</td>\n",
       "      <td>4</td>\n",
       "      <td>1</td>\n",
       "      <td>0.0</td>\n",
       "    </tr>\n",
       "    <tr>\n",
       "      <th>10610</th>\n",
       "      <td>Nariman Point</td>\n",
       "      <td>3 BHK Apartment</td>\n",
       "      <td>425000</td>\n",
       "      <td>2880</td>\n",
       "      <td>Fully Furnished</td>\n",
       "      <td>3</td>\n",
       "      <td>1</td>\n",
       "      <td>2.0</td>\n",
       "    </tr>\n",
       "    <tr>\n",
       "      <th>10616</th>\n",
       "      <td>Nariman Point</td>\n",
       "      <td>3 BHK Apartment</td>\n",
       "      <td>450000</td>\n",
       "      <td>2880</td>\n",
       "      <td>Fully Furnished</td>\n",
       "      <td>4</td>\n",
       "      <td>1</td>\n",
       "      <td>0.0</td>\n",
       "    </tr>\n",
       "    <tr>\n",
       "      <th>12121</th>\n",
       "      <td>Prabhadevi</td>\n",
       "      <td>3 BHK Apartment</td>\n",
       "      <td>500000</td>\n",
       "      <td>2200</td>\n",
       "      <td>Fully Furnished</td>\n",
       "      <td>3</td>\n",
       "      <td>1</td>\n",
       "      <td>2.0</td>\n",
       "    </tr>\n",
       "    <tr>\n",
       "      <th>13296</th>\n",
       "      <td>Vidyavihar</td>\n",
       "      <td>1 RK Apartment</td>\n",
       "      <td>1000000</td>\n",
       "      <td>225</td>\n",
       "      <td>Semi Furnished</td>\n",
       "      <td>1</td>\n",
       "      <td>1</td>\n",
       "      <td>2.0</td>\n",
       "    </tr>\n",
       "  </tbody>\n",
       "</table>\n",
       "</div>"
      ],
      "text/plain": [
       "            Locality             Type  Rent/Month  Build_up_area(sq.ft)  \\\n",
       "1430          Bandra  3 BHK Apartment      500000                  1500   \n",
       "4680       Ghatkopar   1 RK Apartment     1000000                   225   \n",
       "9163    Malabar Hill  3 BHK Apartment      450000                  2250   \n",
       "10610  Nariman Point  3 BHK Apartment      425000                  2880   \n",
       "10616  Nariman Point  3 BHK Apartment      450000                  2880   \n",
       "12121     Prabhadevi  3 BHK Apartment      500000                  2200   \n",
       "13296     Vidyavihar   1 RK Apartment     1000000                   225   \n",
       "\n",
       "            Furnishing  Bathrooms  Balcony  Parking  \n",
       "1430   Fully Furnished          3        3      1.0  \n",
       "4680    Semi Furnished          1        1      2.0  \n",
       "9163   Fully Furnished          4        1      0.0  \n",
       "10610  Fully Furnished          3        1      2.0  \n",
       "10616  Fully Furnished          4        1      0.0  \n",
       "12121  Fully Furnished          3        1      2.0  \n",
       "13296   Semi Furnished          1        1      2.0  "
      ]
     },
     "execution_count": 43,
     "metadata": {},
     "output_type": "execute_result"
    }
   ],
   "source": [
    "df[df['Rent/Month']>400000]"
   ]
  },
  {
   "cell_type": "code",
   "execution_count": 44,
   "metadata": {},
   "outputs": [
    {
     "data": {
      "text/plain": [
       "Int64Index([1430, 4680, 9163, 10610, 10616, 12121, 13296], dtype='int64')"
      ]
     },
     "execution_count": 44,
     "metadata": {},
     "output_type": "execute_result"
    }
   ],
   "source": [
    "ind"
   ]
  },
  {
   "cell_type": "markdown",
   "metadata": {},
   "source": [
    "Finding rent wrt locality,type,build_up_area"
   ]
  },
  {
   "cell_type": "code",
   "execution_count": 45,
   "metadata": {},
   "outputs": [
    {
     "data": {
      "text/plain": [
       "Locality                 object\n",
       "Type                     object\n",
       "Rent/Month                int64\n",
       "Build_up_area(sq.ft)      int32\n",
       "Furnishing               object\n",
       "Bathrooms                 int32\n",
       "Balcony                   int32\n",
       "Parking                 float64\n",
       "dtype: object"
      ]
     },
     "execution_count": 45,
     "metadata": {},
     "output_type": "execute_result"
    }
   ],
   "source": [
    "df.dtypes"
   ]
  },
  {
   "cell_type": "code",
   "execution_count": 46,
   "metadata": {},
   "outputs": [
    {
     "data": {
      "text/plain": [
       "1430    500000\n",
       "1448    260000\n",
       "Name: Rent/Month, dtype: int64"
      ]
     },
     "execution_count": 46,
     "metadata": {},
     "output_type": "execute_result"
    }
   ],
   "source": [
    "df[(df.Locality=='Bandra')&(df.Type=='3 BHK Apartment')&(df['Build_up_area(sq.ft)']==1500)&(df['Balcony']<4)]['Rent/Month'].sort_values(ascending=False).head(2)"
   ]
  },
  {
   "cell_type": "code",
   "execution_count": 47,
   "metadata": {},
   "outputs": [],
   "source": [
    "# Replacing value of outlier\n",
    "df.loc[1430,'Rent/Month'] = 260000"
   ]
  },
  {
   "cell_type": "code",
   "execution_count": 48,
   "metadata": {},
   "outputs": [
    {
     "data": {
      "text/plain": [
       "12121    500000\n",
       "12136    380000\n",
       "Name: Rent/Month, dtype: int64"
      ]
     },
     "execution_count": 48,
     "metadata": {},
     "output_type": "execute_result"
    }
   ],
   "source": [
    "df[(df.Locality=='Prabhadevi')&(df.Type=='3 BHK Apartment')&(df['Build_up_area(sq.ft)']==2200)&(df['Balcony']<4)]['Rent/Month'].sort_values(ascending=False).head(2)"
   ]
  },
  {
   "cell_type": "code",
   "execution_count": 49,
   "metadata": {},
   "outputs": [],
   "source": [
    "# Replacing value of outlier\n",
    "df.loc[12121,'Rent/Month'] = 380000"
   ]
  },
  {
   "cell_type": "code",
   "execution_count": 50,
   "metadata": {},
   "outputs": [
    {
     "data": {
      "text/plain": [
       "13000.0"
      ]
     },
     "execution_count": 50,
     "metadata": {},
     "output_type": "execute_result"
    }
   ],
   "source": [
    "value = df[(df.Locality=='Ghatkopar')&(df.Type=='1 RK Apartment')&(df['Build_up_area(sq.ft)']==225)]['Rent/Month'].median()\n",
    "value"
   ]
  },
  {
   "cell_type": "code",
   "execution_count": 51,
   "metadata": {},
   "outputs": [],
   "source": [
    "# Replacing value of outlier\n",
    "df.loc[4680,'Rent/Month'] = int(value)"
   ]
  },
  {
   "cell_type": "code",
   "execution_count": 52,
   "metadata": {},
   "outputs": [
    {
     "data": {
      "text/plain": [
       "14000.0"
      ]
     },
     "execution_count": 52,
     "metadata": {},
     "output_type": "execute_result"
    }
   ],
   "source": [
    "value1 = df[(df.Locality=='Vidyavihar')&(df.Type=='1 RK Apartment')&(df['Build_up_area(sq.ft)']<300)]['Rent/Month'].median()\n",
    "value1"
   ]
  },
  {
   "cell_type": "code",
   "execution_count": 53,
   "metadata": {},
   "outputs": [],
   "source": [
    "# Replacing value of outlier\n",
    "df.loc[13296,'Rent/Month'] = int(value1)"
   ]
  },
  {
   "cell_type": "code",
   "execution_count": 54,
   "metadata": {},
   "outputs": [
    {
     "data": {
      "text/plain": [
       "10616    450000\n",
       "10610    425000\n",
       "10615    270000\n",
       "Name: Rent/Month, dtype: int64"
      ]
     },
     "execution_count": 54,
     "metadata": {},
     "output_type": "execute_result"
    }
   ],
   "source": [
    "df[(df.Locality=='Nariman Point')&(df.Type=='3 BHK Apartment')&(df['Build_up_area(sq.ft)']<=2880)&(df['Balcony']<5)]['Rent/Month'].sort_values(ascending=False).head(3)"
   ]
  },
  {
   "cell_type": "code",
   "execution_count": 55,
   "metadata": {},
   "outputs": [],
   "source": [
    "df.loc[[9163, 10610, 10616],'Rent/Month'] = 270000"
   ]
  },
  {
   "cell_type": "markdown",
   "metadata": {},
   "source": [
    "Build_up_area(sq.ft) column"
   ]
  },
  {
   "cell_type": "code",
   "execution_count": 56,
   "metadata": {},
   "outputs": [
    {
     "data": {
      "text/html": [
       "<div>\n",
       "<style scoped>\n",
       "    .dataframe tbody tr th:only-of-type {\n",
       "        vertical-align: middle;\n",
       "    }\n",
       "\n",
       "    .dataframe tbody tr th {\n",
       "        vertical-align: top;\n",
       "    }\n",
       "\n",
       "    .dataframe thead th {\n",
       "        text-align: right;\n",
       "    }\n",
       "</style>\n",
       "<table border=\"1\" class=\"dataframe\">\n",
       "  <thead>\n",
       "    <tr style=\"text-align: right;\">\n",
       "      <th></th>\n",
       "      <th>Locality</th>\n",
       "      <th>Type</th>\n",
       "      <th>Rent/Month</th>\n",
       "      <th>Build_up_area(sq.ft)</th>\n",
       "      <th>Furnishing</th>\n",
       "      <th>Bathrooms</th>\n",
       "      <th>Balcony</th>\n",
       "      <th>Parking</th>\n",
       "    </tr>\n",
       "  </thead>\n",
       "  <tbody>\n",
       "    <tr>\n",
       "      <th>14721</th>\n",
       "      <td>Worli</td>\n",
       "      <td>3 BHK Apartment</td>\n",
       "      <td>300000</td>\n",
       "      <td>5200</td>\n",
       "      <td>Semi Furnished</td>\n",
       "      <td>4</td>\n",
       "      <td>4</td>\n",
       "      <td>2.0</td>\n",
       "    </tr>\n",
       "  </tbody>\n",
       "</table>\n",
       "</div>"
      ],
      "text/plain": [
       "      Locality             Type  Rent/Month  Build_up_area(sq.ft)  \\\n",
       "14721    Worli  3 BHK Apartment      300000                  5200   \n",
       "\n",
       "           Furnishing  Bathrooms  Balcony  Parking  \n",
       "14721  Semi Furnished          4        4      2.0  "
      ]
     },
     "execution_count": 56,
     "metadata": {},
     "output_type": "execute_result"
    }
   ],
   "source": [
    "df[df['Build_up_area(sq.ft)']>4000]"
   ]
  },
  {
   "cell_type": "code",
   "execution_count": 57,
   "metadata": {
    "slideshow": {
     "slide_type": "fragment"
    }
   },
   "outputs": [
    {
     "data": {
      "text/plain": [
       "3700.0"
      ]
     },
     "execution_count": 57,
     "metadata": {},
     "output_type": "execute_result"
    }
   ],
   "source": [
    "value2 = df[df['Build_up_area(sq.ft)']>3500]['Build_up_area(sq.ft)'].median()\n",
    "value2"
   ]
  },
  {
   "cell_type": "code",
   "execution_count": 58,
   "metadata": {},
   "outputs": [],
   "source": [
    "# Replacing value of outlier\n",
    "df.loc[14721,'Build_up_area(sq.ft)'] = int(value2)"
   ]
  },
  {
   "cell_type": "markdown",
   "metadata": {},
   "source": [
    "# Visualization\n",
    "<a class=\"anchor\" id=\"Visualization\"></a>"
   ]
  },
  {
   "cell_type": "markdown",
   "metadata": {},
   "source": [
    "Total Apartment for rent of each Type"
   ]
  },
  {
   "cell_type": "code",
   "execution_count": 59,
   "metadata": {},
   "outputs": [
    {
     "data": {
      "image/png": "[encoded data removed]",
      "text/plain": [
       "<Figure size 432x288 with 1 Axes>"
      ]
     },
     "metadata": {
      "needs_background": "light"
     },
     "output_type": "display_data"
    }
   ],
   "source": [
    "sns.countplot(y=df.Type)\n",
    "plt.show()"
   ]
  },
  {
   "cell_type": "markdown",
   "metadata": {},
   "source": [
    "Average Rent per month for each Type of Apartment"
   ]
  },
  {
   "cell_type": "code",
   "execution_count": 60,
   "metadata": {},
   "outputs": [
    {
     "data": {
      "text/plain": [
       "Type\n",
       "3 BHK Apartment    101556.444444\n",
       "2 BHK Apartment     54774.726604\n",
       "1 BHK Apartment     31502.143037\n",
       "1 RK Apartment      18599.073927\n",
       "Name: Rent/Month, dtype: float64"
      ]
     },
     "execution_count": 60,
     "metadata": {},
     "output_type": "execute_result"
    }
   ],
   "source": [
    "df.groupby('Type')['Rent/Month'].mean().sort_values(ascending=False)"
   ]
  },
  {
   "cell_type": "code",
   "execution_count": 61,
   "metadata": {},
   "outputs": [
    {
     "data": {
      "image/png": "[encoded data removed]",
      "text/plain": [
       "<Figure size 432x288 with 1 Axes>"
      ]
     },
     "metadata": {
      "needs_background": "light"
     },
     "output_type": "display_data"
    }
   ],
   "source": [
    "sns.barplot(y=df.groupby('Type')['Rent/Month'].mean().sort_values(ascending=False).index,x=df.groupby('Type')['Rent/Month'].mean().sort_values(ascending=False).values)\n",
    "plt.show()"
   ]
  },
  {
   "cell_type": "markdown",
   "metadata": {},
   "source": [
    "Average Rent per month for every Locality"
   ]
  },
  {
   "cell_type": "code",
   "execution_count": 62,
   "metadata": {},
   "outputs": [
    {
     "data": {
      "image/png": "[encoded data removed]",
      "text/plain": [
       "<Figure size 720x864 with 1 Axes>"
      ]
     },
     "metadata": {
      "needs_background": "light"
     },
     "output_type": "display_data"
    }
   ],
   "source": [
    "plt.figure(figsize=(10,12))\n",
    "sns.barplot(y=df.groupby('Locality')['Rent/Month'].mean().sort_values(ascending=False).index,x=df.groupby('Locality')['Rent/Month'].mean().sort_values(ascending=False).values)\n",
    "plt.show()"
   ]
  },
  {
   "cell_type": "code",
   "execution_count": 63,
   "metadata": {},
   "outputs": [
    {
     "data": {
      "image/png": "[encoded data removed]",
      "text/plain": [
       "<Figure size 432x288 with 1 Axes>"
      ]
     },
     "metadata": {
      "needs_background": "light"
     },
     "output_type": "display_data"
    }
   ],
   "source": [
    "sns.barplot(y=df.groupby('Furnishing')['Rent/Month'].median().sort_values(ascending=False).index,x=df.groupby('Furnishing')['Rent/Month'].median().sort_values(ascending=False).values)\n",
    "plt.show()"
   ]
  },
  {
   "cell_type": "markdown",
   "metadata": {},
   "source": [
    "# Top High-priced Localities"
   ]
  },
  {
   "cell_type": "code",
   "execution_count": 64,
   "metadata": {},
   "outputs": [
    {
     "data": {
      "image/png": "[encoded data removed]",
      "text/plain": [
       "<Figure size 1440x720 with 4 Axes>"
      ]
     },
     "metadata": {
      "needs_background": "light"
     },
     "output_type": "display_data"
    }
   ],
   "source": [
    "plt.figure(figsize=(20,10))\n",
    "\n",
    "plt.subplot(2,2,1)\n",
    "sns.barplot(y=df[df.Type=='1 RK Apartment'].groupby('Locality')['Rent/Month'].mean().sort_values(ascending=False).head().index,x=df[df.Type=='1 RK Apartment'].groupby('Locality')['Rent/Month'].mean().sort_values(ascending=False).head().values)\n",
    "plt.title('1 RK Apartment')\n",
    "\n",
    "plt.subplot(2,2,2)\n",
    "sns.barplot(y=df[df.Type=='1 BHK Apartment'].groupby('Locality')['Rent/Month'].mean().sort_values(ascending=False).head().index,x=df[df.Type=='1 BHK Apartment'].groupby('Locality')['Rent/Month'].mean().sort_values(ascending=False).head().values)\n",
    "plt.title('1 BHK Apartment')\n",
    "\n",
    "plt.subplot(2,2,3)\n",
    "sns.barplot(y=df[df.Type=='2 BHK Apartment'].groupby('Locality')['Rent/Month'].mean().sort_values(ascending=False).head().index,x=df[df.Type=='2 BHK Apartment'].groupby('Locality')['Rent/Month'].mean().sort_values(ascending=False).head().values)\n",
    "plt.title('2 BHK Apartment')\n",
    "\n",
    "plt.subplot(2,2,4)\n",
    "sns.barplot(y=df[df.Type=='3 BHK Apartment'].groupby('Locality')['Rent/Month'].mean().sort_values(ascending=False).head().index,x=df[df.Type=='3 BHK Apartment'].groupby('Locality')['Rent/Month'].mean().sort_values(ascending=False).head().values)\n",
    "plt.title('3 BHK Apartment')\n",
    "plt.show()"
   ]
  },
  {
   "cell_type": "markdown",
   "metadata": {},
   "source": [
    "# Top Low-priced Localities"
   ]
  },
  {
   "cell_type": "code",
   "execution_count": 65,
   "metadata": {},
   "outputs": [
    {
     "data": {
      "image/png": "[encoded data removed]",
      "text/plain": [
       "<Figure size 1440x720 with 4 Axes>"
      ]
     },
     "metadata": {
      "needs_background": "light"
     },
     "output_type": "display_data"
    }
   ],
   "source": [
    "plt.figure(figsize=(20,10))\n",
    "\n",
    "plt.subplot(2,2,1)\n",
    "sns.barplot(y=df[df.Type=='1 RK Apartment'].groupby('Locality')['Rent/Month'].mean().sort_values(ascending=True).head().index,x=df[df.Type=='1 RK Apartment'].groupby('Locality')['Rent/Month'].mean().sort_values(ascending=True).head().values)\n",
    "plt.title('1 RK Apartment')\n",
    "\n",
    "plt.subplot(2,2,2)\n",
    "sns.barplot(y=df[df.Type=='1 BHK Apartment'].groupby('Locality')['Rent/Month'].mean().sort_values(ascending=True).head().index,x=df[df.Type=='1 BHK Apartment'].groupby('Locality')['Rent/Month'].mean().sort_values(ascending=True).head().values)\n",
    "plt.title('1 BHK Apartment')\n",
    "\n",
    "plt.subplot(2,2,3)\n",
    "sns.barplot(y=df[df.Type=='2 BHK Apartment'].groupby('Locality')['Rent/Month'].mean().sort_values(ascending=True).head().index,x=df[df.Type=='2 BHK Apartment'].groupby('Locality')['Rent/Month'].mean().sort_values(ascending=True).head().values)\n",
    "plt.title('2 BHK Apartment')\n",
    "\n",
    "plt.subplot(2,2,4)\n",
    "sns.barplot(y=df[df.Type=='3 BHK Apartment'].groupby('Locality')['Rent/Month'].mean().sort_values(ascending=True).head().index,x=df[df.Type=='3 BHK Apartment'].groupby('Locality')['Rent/Month'].mean().sort_values(ascending=True).head().values)\n",
    "plt.title('3 BHK Apartment')\n",
    "plt.show()"
   ]
  },
  {
   "cell_type": "markdown",
   "metadata": {},
   "source": [
    "# Rent as per balconies"
   ]
  },
  {
   "cell_type": "code",
   "execution_count": 66,
   "metadata": {},
   "outputs": [
    {
     "data": {
      "image/png": "[encoded data removed]",
      "text/plain": [
       "<Figure size 432x288 with 1 Axes>"
      ]
     },
     "metadata": {
      "needs_background": "light"
     },
     "output_type": "display_data"
    }
   ],
   "source": [
    "sns.barplot(x=df.groupby('Balcony')['Rent/Month'].mean().sort_values(ascending=True).index,y=df.groupby('Balcony')['Rent/Month'].mean().sort_values(ascending=True).values)\n",
    "plt.show()"
   ]
  },
  {
   "cell_type": "markdown",
   "metadata": {},
   "source": [
    "# Rent as per Parking"
   ]
  },
  {
   "cell_type": "code",
   "execution_count": 67,
   "metadata": {},
   "outputs": [
    {
     "data": {
      "image/png": "[encoded data removed]",
      "text/plain": [
       "<Figure size 432x288 with 1 Axes>"
      ]
     },
     "metadata": {
      "needs_background": "light"
     },
     "output_type": "display_data"
    }
   ],
   "source": [
    "sns.barplot(x=df.groupby('Parking')['Rent/Month'].mean().sort_values(ascending=True).index,y=df.groupby('Parking')['Rent/Month'].mean().sort_values(ascending=True).values)\n",
    "plt.show()"
   ]
  },
  {
   "cell_type": "markdown",
   "metadata": {},
   "source": [
    "# Rent as per Area"
   ]
  },
  {
   "cell_type": "code",
   "execution_count": 68,
   "metadata": {},
   "outputs": [
    {
     "data": {
      "image/png": "[encoded data removed]",
      "text/plain": [
       "<Figure size 432x288 with 1 Axes>"
      ]
     },
     "metadata": {
      "needs_background": "light"
     },
     "output_type": "display_data"
    }
   ],
   "source": [
    "sns.scatterplot(x=df['Build_up_area(sq.ft)'],y=df['Rent/Month'])\n",
    "plt.show()"
   ]
  },
  {
   "cell_type": "code",
   "execution_count": 69,
   "metadata": {},
   "outputs": [
    {
     "data": {
      "image/png": "[encoded data removed]",
      "text/plain": [
       "<Figure size 720x504 with 1 Axes>"
      ]
     },
     "metadata": {
      "needs_background": "light"
     },
     "output_type": "display_data"
    }
   ],
   "source": [
    "plt.figure(figsize=(10,7))\n",
    "sns.scatterplot(x=df['Build_up_area(sq.ft)'],y=df['Rent/Month'],hue=df.Type)\n",
    "plt.show()"
   ]
  },
  {
   "cell_type": "code",
   "execution_count": 70,
   "metadata": {},
   "outputs": [],
   "source": [
    "newdf = df.copy()"
   ]
  },
  {
   "cell_type": "code",
   "execution_count": 71,
   "metadata": {},
   "outputs": [
    {
     "data": {
      "text/html": [
       "<div>\n",
       "<style scoped>\n",
       "    .dataframe tbody tr th:only-of-type {\n",
       "        vertical-align: middle;\n",
       "    }\n",
       "\n",
       "    .dataframe tbody tr th {\n",
       "        vertical-align: top;\n",
       "    }\n",
       "\n",
       "    .dataframe thead th {\n",
       "        text-align: right;\n",
       "    }\n",
       "</style>\n",
       "<table border=\"1\" class=\"dataframe\">\n",
       "  <thead>\n",
       "    <tr style=\"text-align: right;\">\n",
       "      <th></th>\n",
       "      <th>Locality</th>\n",
       "      <th>Type</th>\n",
       "      <th>Rent/Month</th>\n",
       "      <th>Build_up_area(sq.ft)</th>\n",
       "      <th>Furnishing</th>\n",
       "      <th>Bathrooms</th>\n",
       "      <th>Balcony</th>\n",
       "      <th>Parking</th>\n",
       "    </tr>\n",
       "  </thead>\n",
       "  <tbody>\n",
       "    <tr>\n",
       "      <th>0</th>\n",
       "      <td>Andheri</td>\n",
       "      <td>1 RK Apartment</td>\n",
       "      <td>20000</td>\n",
       "      <td>350</td>\n",
       "      <td>Semi Furnished</td>\n",
       "      <td>1</td>\n",
       "      <td>1</td>\n",
       "      <td>0.0</td>\n",
       "    </tr>\n",
       "    <tr>\n",
       "      <th>1</th>\n",
       "      <td>Andheri</td>\n",
       "      <td>3 BHK Apartment</td>\n",
       "      <td>100000</td>\n",
       "      <td>1850</td>\n",
       "      <td>Semi Furnished</td>\n",
       "      <td>3</td>\n",
       "      <td>1</td>\n",
       "      <td>2.0</td>\n",
       "    </tr>\n",
       "    <tr>\n",
       "      <th>2</th>\n",
       "      <td>Andheri</td>\n",
       "      <td>2 BHK Apartment</td>\n",
       "      <td>45000</td>\n",
       "      <td>1240</td>\n",
       "      <td>Semi Furnished</td>\n",
       "      <td>2</td>\n",
       "      <td>4</td>\n",
       "      <td>1.0</td>\n",
       "    </tr>\n",
       "    <tr>\n",
       "      <th>3</th>\n",
       "      <td>Andheri</td>\n",
       "      <td>1 BHK Apartment</td>\n",
       "      <td>31500</td>\n",
       "      <td>650</td>\n",
       "      <td>Unfurnished</td>\n",
       "      <td>2</td>\n",
       "      <td>1</td>\n",
       "      <td>1.0</td>\n",
       "    </tr>\n",
       "    <tr>\n",
       "      <th>4</th>\n",
       "      <td>Andheri</td>\n",
       "      <td>2 BHK Apartment</td>\n",
       "      <td>44000</td>\n",
       "      <td>1250</td>\n",
       "      <td>Unfurnished</td>\n",
       "      <td>2</td>\n",
       "      <td>3</td>\n",
       "      <td>1.0</td>\n",
       "    </tr>\n",
       "    <tr>\n",
       "      <th>...</th>\n",
       "      <td>...</td>\n",
       "      <td>...</td>\n",
       "      <td>...</td>\n",
       "      <td>...</td>\n",
       "      <td>...</td>\n",
       "      <td>...</td>\n",
       "      <td>...</td>\n",
       "      <td>...</td>\n",
       "    </tr>\n",
       "    <tr>\n",
       "      <th>15381</th>\n",
       "      <td>Worli</td>\n",
       "      <td>1 RK Apartment</td>\n",
       "      <td>25000</td>\n",
       "      <td>300</td>\n",
       "      <td>Fully Furnished</td>\n",
       "      <td>1</td>\n",
       "      <td>1</td>\n",
       "      <td>0.0</td>\n",
       "    </tr>\n",
       "    <tr>\n",
       "      <th>15382</th>\n",
       "      <td>Worli</td>\n",
       "      <td>3 BHK Apartment</td>\n",
       "      <td>215000</td>\n",
       "      <td>3132</td>\n",
       "      <td>Semi Furnished</td>\n",
       "      <td>3</td>\n",
       "      <td>2</td>\n",
       "      <td>3.0</td>\n",
       "    </tr>\n",
       "    <tr>\n",
       "      <th>15383</th>\n",
       "      <td>Worli</td>\n",
       "      <td>2 BHK Apartment</td>\n",
       "      <td>100000</td>\n",
       "      <td>1180</td>\n",
       "      <td>Fully Furnished</td>\n",
       "      <td>2</td>\n",
       "      <td>3</td>\n",
       "      <td>1.0</td>\n",
       "    </tr>\n",
       "    <tr>\n",
       "      <th>15384</th>\n",
       "      <td>Worli</td>\n",
       "      <td>3 BHK Apartment</td>\n",
       "      <td>240000</td>\n",
       "      <td>3400</td>\n",
       "      <td>Semi Furnished</td>\n",
       "      <td>4</td>\n",
       "      <td>2</td>\n",
       "      <td>2.0</td>\n",
       "    </tr>\n",
       "    <tr>\n",
       "      <th>15385</th>\n",
       "      <td>Worli</td>\n",
       "      <td>3 BHK Apartment</td>\n",
       "      <td>250000</td>\n",
       "      <td>3200</td>\n",
       "      <td>Fully Furnished</td>\n",
       "      <td>4</td>\n",
       "      <td>2</td>\n",
       "      <td>2.0</td>\n",
       "    </tr>\n",
       "  </tbody>\n",
       "</table>\n",
       "<p>15386 rows × 8 columns</p>\n",
       "</div>"
      ],
      "text/plain": [
       "      Locality             Type  Rent/Month  Build_up_area(sq.ft)  \\\n",
       "0      Andheri   1 RK Apartment       20000                   350   \n",
       "1      Andheri  3 BHK Apartment      100000                  1850   \n",
       "2      Andheri  2 BHK Apartment       45000                  1240   \n",
       "3      Andheri  1 BHK Apartment       31500                   650   \n",
       "4      Andheri  2 BHK Apartment       44000                  1250   \n",
       "...        ...              ...         ...                   ...   \n",
       "15381    Worli   1 RK Apartment       25000                   300   \n",
       "15382    Worli  3 BHK Apartment      215000                  3132   \n",
       "15383    Worli  2 BHK Apartment      100000                  1180   \n",
       "15384    Worli  3 BHK Apartment      240000                  3400   \n",
       "15385    Worli  3 BHK Apartment      250000                  3200   \n",
       "\n",
       "            Furnishing  Bathrooms  Balcony  Parking  \n",
       "0       Semi Furnished          1        1      0.0  \n",
       "1       Semi Furnished          3        1      2.0  \n",
       "2       Semi Furnished          2        4      1.0  \n",
       "3          Unfurnished          2        1      1.0  \n",
       "4          Unfurnished          2        3      1.0  \n",
       "...                ...        ...      ...      ...  \n",
       "15381  Fully Furnished          1        1      0.0  \n",
       "15382   Semi Furnished          3        2      3.0  \n",
       "15383  Fully Furnished          2        3      1.0  \n",
       "15384   Semi Furnished          4        2      2.0  \n",
       "15385  Fully Furnished          4        2      2.0  \n",
       "\n",
       "[15386 rows x 8 columns]"
      ]
     },
     "execution_count": 71,
     "metadata": {},
     "output_type": "execute_result"
    }
   ],
   "source": [
    "newdf"
   ]
  },
  {
   "cell_type": "code",
   "execution_count": 72,
   "metadata": {},
   "outputs": [],
   "source": [
    "# csv for visualization\n",
    "newdf.to_csv('Visualize.csv',index=False)"
   ]
  },
  {
   "cell_type": "markdown",
   "metadata": {},
   "source": [
    "# Label Encoding\n",
    "<a class=\"anchor\" id=\"Label_Encoding\"></a>"
   ]
  },
  {
   "cell_type": "code",
   "execution_count": 73,
   "metadata": {},
   "outputs": [],
   "source": [
    "df.Furnishing=df.Furnishing.map({'Unfurnished':0,'Semi Furnished':1,'Fully Furnished':2})"
   ]
  },
  {
   "cell_type": "code",
   "execution_count": 74,
   "metadata": {},
   "outputs": [],
   "source": [
    "df.Type = df.Type.map({'1 RK Apartment':0,'1 BHK Apartment':1,'2 BHK Apartment':2,'3 BHK Apartment':3})"
   ]
  },
  {
   "cell_type": "code",
   "execution_count": 75,
   "metadata": {},
   "outputs": [],
   "source": [
    "a = dict(zip(list(df.Locality.unique()),list(range(40))))"
   ]
  },
  {
   "cell_type": "code",
   "execution_count": 76,
   "metadata": {},
   "outputs": [
    {
     "name": "stdout",
     "output_type": "stream",
     "text": [
      "{'Andheri': 0, 'Bandra': 1, 'Bhandup': 2, 'Byculla': 3, 'Chembur': 4, 'Colaba': 5, 'Dadar': 6, 'Dharavi': 7, 'Fort': 8, 'Ghatkopar': 9, 'Girgaon': 10, 'Goregaon': 11, 'Govandi': 12, 'Grant Road': 13, 'Jogeshwari': 14, 'Juhu': 15, 'Khar': 16, 'Kurla': 17, 'Lalbaug': 18, 'Lokhandwala': 19, 'Mahalakshmi': 20, 'Mahim': 21, 'Malabar Hill': 22, 'Malad': 23, 'Marine Drive': 24, 'Masjid': 25, 'Matunga': 26, 'Mulund': 27, 'Nariman Point': 28, 'Parel': 29, 'Powai': 30, 'Prabhadevi': 31, 'Santacruz': 32, 'Sion': 33, 'Tardeo': 34, 'Vidyavihar': 35, 'Vikhroli': 36, 'Vile Parle': 37, 'Wadala': 38, 'Worli': 39}\n"
     ]
    }
   ],
   "source": [
    "print(a)"
   ]
  },
  {
   "cell_type": "code",
   "execution_count": 77,
   "metadata": {},
   "outputs": [],
   "source": [
    "df.Locality=df.Locality.map(a)"
   ]
  },
  {
   "cell_type": "code",
   "execution_count": 78,
   "metadata": {},
   "outputs": [],
   "source": [
    "df.Parking=df.Parking.astype('int')"
   ]
  },
  {
   "cell_type": "code",
   "execution_count": 79,
   "metadata": {},
   "outputs": [
    {
     "data": {
      "text/plain": [
       "Locality                int64\n",
       "Type                    int64\n",
       "Rent/Month              int64\n",
       "Build_up_area(sq.ft)    int32\n",
       "Furnishing              int64\n",
       "Bathrooms               int32\n",
       "Balcony                 int32\n",
       "Parking                 int32\n",
       "dtype: object"
      ]
     },
     "execution_count": 79,
     "metadata": {},
     "output_type": "execute_result"
    }
   ],
   "source": [
    "df.dtypes"
   ]
  },
  {
   "cell_type": "markdown",
   "metadata": {},
   "source": [
    "# Model Building\n",
    "<a class=\"anchor\" id=\"Model_Building\"></a>"
   ]
  },
  {
   "cell_type": "code",
   "execution_count": 80,
   "metadata": {},
   "outputs": [],
   "source": [
    "X = df.copy()"
   ]
  },
  {
   "cell_type": "code",
   "execution_count": 81,
   "metadata": {},
   "outputs": [],
   "source": [
    "X.drop('Rent/Month',axis=1,inplace=True)"
   ]
  },
  {
   "cell_type": "code",
   "execution_count": 82,
   "metadata": {},
   "outputs": [
    {
     "data": {
      "text/html": [
       "<div>\n",
       "<style scoped>\n",
       "    .dataframe tbody tr th:only-of-type {\n",
       "        vertical-align: middle;\n",
       "    }\n",
       "\n",
       "    .dataframe tbody tr th {\n",
       "        vertical-align: top;\n",
       "    }\n",
       "\n",
       "    .dataframe thead th {\n",
       "        text-align: right;\n",
       "    }\n",
       "</style>\n",
       "<table border=\"1\" class=\"dataframe\">\n",
       "  <thead>\n",
       "    <tr style=\"text-align: right;\">\n",
       "      <th></th>\n",
       "      <th>Locality</th>\n",
       "      <th>Type</th>\n",
       "      <th>Build_up_area(sq.ft)</th>\n",
       "      <th>Furnishing</th>\n",
       "      <th>Bathrooms</th>\n",
       "      <th>Balcony</th>\n",
       "      <th>Parking</th>\n",
       "    </tr>\n",
       "  </thead>\n",
       "  <tbody>\n",
       "    <tr>\n",
       "      <th>0</th>\n",
       "      <td>0</td>\n",
       "      <td>0</td>\n",
       "      <td>350</td>\n",
       "      <td>1</td>\n",
       "      <td>1</td>\n",
       "      <td>1</td>\n",
       "      <td>0</td>\n",
       "    </tr>\n",
       "    <tr>\n",
       "      <th>1</th>\n",
       "      <td>0</td>\n",
       "      <td>3</td>\n",
       "      <td>1850</td>\n",
       "      <td>1</td>\n",
       "      <td>3</td>\n",
       "      <td>1</td>\n",
       "      <td>2</td>\n",
       "    </tr>\n",
       "    <tr>\n",
       "      <th>2</th>\n",
       "      <td>0</td>\n",
       "      <td>2</td>\n",
       "      <td>1240</td>\n",
       "      <td>1</td>\n",
       "      <td>2</td>\n",
       "      <td>4</td>\n",
       "      <td>1</td>\n",
       "    </tr>\n",
       "    <tr>\n",
       "      <th>3</th>\n",
       "      <td>0</td>\n",
       "      <td>1</td>\n",
       "      <td>650</td>\n",
       "      <td>0</td>\n",
       "      <td>2</td>\n",
       "      <td>1</td>\n",
       "      <td>1</td>\n",
       "    </tr>\n",
       "    <tr>\n",
       "      <th>4</th>\n",
       "      <td>0</td>\n",
       "      <td>2</td>\n",
       "      <td>1250</td>\n",
       "      <td>0</td>\n",
       "      <td>2</td>\n",
       "      <td>3</td>\n",
       "      <td>1</td>\n",
       "    </tr>\n",
       "    <tr>\n",
       "      <th>...</th>\n",
       "      <td>...</td>\n",
       "      <td>...</td>\n",
       "      <td>...</td>\n",
       "      <td>...</td>\n",
       "      <td>...</td>\n",
       "      <td>...</td>\n",
       "      <td>...</td>\n",
       "    </tr>\n",
       "    <tr>\n",
       "      <th>15381</th>\n",
       "      <td>39</td>\n",
       "      <td>0</td>\n",
       "      <td>300</td>\n",
       "      <td>2</td>\n",
       "      <td>1</td>\n",
       "      <td>1</td>\n",
       "      <td>0</td>\n",
       "    </tr>\n",
       "    <tr>\n",
       "      <th>15382</th>\n",
       "      <td>39</td>\n",
       "      <td>3</td>\n",
       "      <td>3132</td>\n",
       "      <td>1</td>\n",
       "      <td>3</td>\n",
       "      <td>2</td>\n",
       "      <td>3</td>\n",
       "    </tr>\n",
       "    <tr>\n",
       "      <th>15383</th>\n",
       "      <td>39</td>\n",
       "      <td>2</td>\n",
       "      <td>1180</td>\n",
       "      <td>2</td>\n",
       "      <td>2</td>\n",
       "      <td>3</td>\n",
       "      <td>1</td>\n",
       "    </tr>\n",
       "    <tr>\n",
       "      <th>15384</th>\n",
       "      <td>39</td>\n",
       "      <td>3</td>\n",
       "      <td>3400</td>\n",
       "      <td>1</td>\n",
       "      <td>4</td>\n",
       "      <td>2</td>\n",
       "      <td>2</td>\n",
       "    </tr>\n",
       "    <tr>\n",
       "      <th>15385</th>\n",
       "      <td>39</td>\n",
       "      <td>3</td>\n",
       "      <td>3200</td>\n",
       "      <td>2</td>\n",
       "      <td>4</td>\n",
       "      <td>2</td>\n",
       "      <td>2</td>\n",
       "    </tr>\n",
       "  </tbody>\n",
       "</table>\n",
       "<p>15386 rows × 7 columns</p>\n",
       "</div>"
      ],
      "text/plain": [
       "       Locality  Type  Build_up_area(sq.ft)  Furnishing  Bathrooms  Balcony  \\\n",
       "0             0     0                   350           1          1        1   \n",
       "1             0     3                  1850           1          3        1   \n",
       "2             0     2                  1240           1          2        4   \n",
       "3             0     1                   650           0          2        1   \n",
       "4             0     2                  1250           0          2        3   \n",
       "...         ...   ...                   ...         ...        ...      ...   \n",
       "15381        39     0                   300           2          1        1   \n",
       "15382        39     3                  3132           1          3        2   \n",
       "15383        39     2                  1180           2          2        3   \n",
       "15384        39     3                  3400           1          4        2   \n",
       "15385        39     3                  3200           2          4        2   \n",
       "\n",
       "       Parking  \n",
       "0            0  \n",
       "1            2  \n",
       "2            1  \n",
       "3            1  \n",
       "4            1  \n",
       "...        ...  \n",
       "15381        0  \n",
       "15382        3  \n",
       "15383        1  \n",
       "15384        2  \n",
       "15385        2  \n",
       "\n",
       "[15386 rows x 7 columns]"
      ]
     },
     "execution_count": 82,
     "metadata": {},
     "output_type": "execute_result"
    }
   ],
   "source": [
    "X"
   ]
  },
  {
   "cell_type": "code",
   "execution_count": 83,
   "metadata": {},
   "outputs": [],
   "source": [
    "Y = df['Rent/Month']"
   ]
  },
  {
   "cell_type": "code",
   "execution_count": 84,
   "metadata": {},
   "outputs": [
    {
     "data": {
      "text/plain": [
       "0         20000\n",
       "1        100000\n",
       "2         45000\n",
       "3         31500\n",
       "4         44000\n",
       "          ...  \n",
       "15381     25000\n",
       "15382    215000\n",
       "15383    100000\n",
       "15384    240000\n",
       "15385    250000\n",
       "Name: Rent/Month, Length: 15386, dtype: int64"
      ]
     },
     "execution_count": 84,
     "metadata": {},
     "output_type": "execute_result"
    }
   ],
   "source": [
    "Y"
   ]
  },
  {
   "cell_type": "markdown",
   "metadata": {},
   "source": [
    "# Split Data"
   ]
  },
  {
   "cell_type": "code",
   "execution_count": 85,
   "metadata": {},
   "outputs": [],
   "source": [
    "from sklearn.model_selection import train_test_split\n",
    "\n",
    "X_train,X_test,Y_train,Y_test = train_test_split(X,Y,test_size=0.2,random_state=10)"
   ]
  },
  {
   "cell_type": "markdown",
   "metadata": {},
   "source": [
    "# Linear Regression\n",
    "<a class=\"anchor\" id=\"Linear_Regression\"></a>"
   ]
  },
  {
   "cell_type": "code",
   "execution_count": 86,
   "metadata": {},
   "outputs": [],
   "source": [
    "from sklearn.linear_model import LinearRegression\n",
    "lr = LinearRegression()\n",
    "lr.fit(X_train,Y_train)\n",
    "Y_pred=lr.predict(X_test)"
   ]
  },
  {
   "cell_type": "code",
   "execution_count": 87,
   "metadata": {},
   "outputs": [
    {
     "name": "stdout",
     "output_type": "stream",
     "text": [
      "Score -> 0.5617102229726565\n",
      "RMSE -> 26906.158717114595\n"
     ]
    }
   ],
   "source": [
    "# Evaluation\n",
    "from sklearn.metrics import r2_score,mean_squared_error\n",
    "import numpy as np\n",
    "\n",
    "lracc = r2_score(Y_test,Y_pred)\n",
    "print('Score ->',lracc)\n",
    "\n",
    "lrrmse = np.sqrt(mean_squared_error(Y_test,Y_pred))\n",
    "print('RMSE ->',lrrmse)"
   ]
  },
  {
   "cell_type": "markdown",
   "metadata": {},
   "source": [
    "# Decision Tree\n",
    "<a class=\"anchor\" id=\"Decision_Tree\"></a>"
   ]
  },
  {
   "cell_type": "code",
   "execution_count": 88,
   "metadata": {},
   "outputs": [],
   "source": [
    "from sklearn.tree import DecisionTreeRegressor\n",
    "\n",
    "dt=DecisionTreeRegressor()\n",
    "\n",
    "#fit the model on the data and predict the values\n",
    "dt.fit(X_train,Y_train)\n",
    "\n",
    "Y_pred=dt.predict(X_test)"
   ]
  },
  {
   "cell_type": "code",
   "execution_count": 89,
   "metadata": {},
   "outputs": [
    {
     "name": "stdout",
     "output_type": "stream",
     "text": [
      "Score -> 0.5603893623367406\n",
      "RMSE -> 26946.671355245777\n"
     ]
    }
   ],
   "source": [
    "\n",
    "dtacc = r2_score(Y_test,Y_pred)\n",
    "print('Score ->',dtacc)\n",
    "\n",
    "dtrmse = np.sqrt(mean_squared_error(Y_test,Y_pred))\n",
    "print('RMSE ->',dtrmse)"
   ]
  },
  {
   "cell_type": "markdown",
   "metadata": {},
   "source": [
    "# Random Forest\n",
    "<a class=\"anchor\" id=\"Random_Forest\"></a>"
   ]
  },
  {
   "cell_type": "code",
   "execution_count": 90,
   "metadata": {},
   "outputs": [],
   "source": [
    "from sklearn.ensemble import RandomForestRegressor\n",
    "\n",
    "rf=RandomForestRegressor(n_estimators=101,min_samples_split=15,max_features='auto',min_samples_leaf=2,\n",
    "                                        criterion='mae')\n",
    "\n",
    "#fit the model on the data and predict the values\n",
    "rf.fit(X_train,Y_train)\n",
    "\n",
    "Y_pred=rf.predict(X_test)\n"
   ]
  },
  {
   "cell_type": "code",
   "execution_count": 91,
   "metadata": {},
   "outputs": [
    {
     "name": "stdout",
     "output_type": "stream",
     "text": [
      "Score -> 0.7410127955431292\n",
      "RMSE -> 20682.840515912332\n"
     ]
    }
   ],
   "source": [
    "rfacc = r2_score(Y_test,Y_pred)\n",
    "print('Score ->',rfacc)\n",
    "\n",
    "rfrmse = np.sqrt(mean_squared_error(Y_test,Y_pred))\n",
    "print('RMSE ->',rfrmse)"
   ]
  },
  {
   "cell_type": "markdown",
   "metadata": {},
   "source": [
    "# Extra Tree\n",
    "<a class=\"anchor\" id=\"Extra_Tree_Regressor\"></a>"
   ]
  },
  {
   "cell_type": "code",
   "execution_count": 92,
   "metadata": {},
   "outputs": [
    {
     "name": "stdout",
     "output_type": "stream",
     "text": [
      "Score -> 0.718690070632451\n",
      "RMSE -> 21555.770945592445\n"
     ]
    }
   ],
   "source": [
    "from sklearn.ensemble import ExtraTreesRegressor\n",
    "\n",
    "et=ExtraTreesRegressor(n_estimators=100,min_samples_split=3,min_samples_leaf=1,max_features='log2',\n",
    "                                      criterion='mae')\n",
    "\n",
    "#fit the model on the data and predict the values\n",
    "et.fit(X_train,Y_train)\n",
    "\n",
    "Y_pred=et.predict(X_test)\n",
    "\n",
    "etacc = r2_score(Y_test,Y_pred)\n",
    "print('Score ->',etacc)\n",
    "\n",
    "etrmse = np.sqrt(mean_squared_error(Y_test,Y_pred))\n",
    "print('RMSE ->',etrmse)"
   ]
  },
  {
   "cell_type": "markdown",
   "metadata": {},
   "source": [
    "# Gradient Boost\n",
    "<a class=\"anchor\" id=\"Gradient_Boost\"></a>"
   ]
  },
  {
   "cell_type": "code",
   "execution_count": 93,
   "metadata": {},
   "outputs": [
    {
     "name": "stdout",
     "output_type": "stream",
     "text": [
      "Score -> 0.7572307943973491\n",
      "RMSE -> 20024.78342991656\n"
     ]
    }
   ],
   "source": [
    "from sklearn.ensemble import GradientBoostingRegressor\n",
    "\n",
    "gb=GradientBoostingRegressor(n_estimators=200,min_samples_split=2,min_samples_leaf=2,\n",
    "                                            max_features='auto',loss='ls',learning_rate=0.5,criterion='mae')\n",
    "#fit the model on the data and predict the values\n",
    "gb.fit(X_train,Y_train)\n",
    "\n",
    "Y_pred=gb.predict(X_test)\n",
    "\n",
    "gbacc = r2_score(Y_test,Y_pred)\n",
    "print('Score ->',gbacc)\n",
    "\n",
    "gbrmse = np.sqrt(mean_squared_error(Y_test,Y_pred))\n",
    "print('RMSE ->',gbrmse)"
   ]
  },
  {
   "cell_type": "markdown",
   "metadata": {},
   "source": [
    "# XGB\n",
    "<a class=\"anchor\" id=\"XG_Boost\"></a>"
   ]
  },
  {
   "cell_type": "code",
   "execution_count": 94,
   "metadata": {},
   "outputs": [
    {
     "name": "stdout",
     "output_type": "stream",
     "text": [
      "Score -> 0.7624026187735145\n",
      "RMSE -> 19810.336566975482\n"
     ]
    }
   ],
   "source": [
    "from xgboost import XGBRegressor\n",
    "\n",
    "xg=XGBRegressor(n_estimators=100,learning_rate=0.1)\n",
    "\n",
    "#fit the model on the data and predict the values\n",
    "xg.fit(X_train,Y_train)\n",
    "\n",
    "Y_pred=xg.predict(X_test)\n",
    "\n",
    "xgacc = r2_score(Y_test,Y_pred)\n",
    "print('Score ->',xgacc)\n",
    "\n",
    "xgrmse = np.sqrt(mean_squared_error(Y_test,Y_pred))\n",
    "print('RMSE ->',xgrmse)"
   ]
  },
  {
   "cell_type": "markdown",
   "metadata": {},
   "source": [
    "# ADA boost\n",
    "<a class=\"anchor\" id=\"Ada_Boost\"></a>"
   ]
  },
  {
   "cell_type": "code",
   "execution_count": 95,
   "metadata": {},
   "outputs": [
    {
     "name": "stdout",
     "output_type": "stream",
     "text": [
      "Score -> 0.7538489942193086\n",
      "RMSE -> 20163.774716794756\n"
     ]
    }
   ],
   "source": [
    "from sklearn.ensemble import AdaBoostRegressor\n",
    "\n",
    "ab=AdaBoostRegressor(base_estimator=XGBRegressor(n_estimators=100,learning_rate=0.1),n_estimators=50,\n",
    "                                    loss='linear',learning_rate=0.1)\n",
    "\n",
    "#fit the model on the data and predict the values\n",
    "ab.fit(X_train,Y_train)\n",
    "\n",
    "Y_pred=ab.predict(X_test)\n",
    "\n",
    "abacc = r2_score(Y_test,Y_pred)\n",
    "print('Score ->',abacc)\n",
    "\n",
    "abrmse = np.sqrt(mean_squared_error(Y_test,Y_pred))\n",
    "print('RMSE ->',abrmse)"
   ]
  },
  {
   "cell_type": "markdown",
   "metadata": {},
   "source": [
    "# Comparision of Models\n",
    "<a class=\"anchor\" id=\"Comparison\"></a>\n"
   ]
  },
  {
   "cell_type": "code",
   "execution_count": 96,
   "metadata": {},
   "outputs": [],
   "source": [
    "performance_df = pd.DataFrame([[lracc,dtacc,etacc,rfacc,gbacc,xgacc,abacc],[lrrmse,dtrmse,etrmse,rfrmse,gbrmse,xgrmse,abrmse]]).T"
   ]
  },
  {
   "cell_type": "code",
   "execution_count": 97,
   "metadata": {},
   "outputs": [],
   "source": [
    "performance_df.columns = ['Accuracy','RMSE']\n",
    "performance_df.index = ['Logistic Regression','Decision Tree','Extra Tree','Random Forest','Gradient Boost','XG Boost','ADA Boost']"
   ]
  },
  {
   "cell_type": "code",
   "execution_count": 98,
   "metadata": {},
   "outputs": [
    {
     "data": {
      "text/html": [
       "<div>\n",
       "<style scoped>\n",
       "    .dataframe tbody tr th:only-of-type {\n",
       "        vertical-align: middle;\n",
       "    }\n",
       "\n",
       "    .dataframe tbody tr th {\n",
       "        vertical-align: top;\n",
       "    }\n",
       "\n",
       "    .dataframe thead th {\n",
       "        text-align: right;\n",
       "    }\n",
       "</style>\n",
       "<table border=\"1\" class=\"dataframe\">\n",
       "  <thead>\n",
       "    <tr style=\"text-align: right;\">\n",
       "      <th></th>\n",
       "      <th>Accuracy</th>\n",
       "      <th>RMSE</th>\n",
       "    </tr>\n",
       "  </thead>\n",
       "  <tbody>\n",
       "    <tr>\n",
       "      <th>Logistic Regression</th>\n",
       "      <td>0.561710</td>\n",
       "      <td>26906.158717</td>\n",
       "    </tr>\n",
       "    <tr>\n",
       "      <th>Decision Tree</th>\n",
       "      <td>0.560389</td>\n",
       "      <td>26946.671355</td>\n",
       "    </tr>\n",
       "    <tr>\n",
       "      <th>Extra Tree</th>\n",
       "      <td>0.718690</td>\n",
       "      <td>21555.770946</td>\n",
       "    </tr>\n",
       "    <tr>\n",
       "      <th>Random Forest</th>\n",
       "      <td>0.741013</td>\n",
       "      <td>20682.840516</td>\n",
       "    </tr>\n",
       "    <tr>\n",
       "      <th>Gradient Boost</th>\n",
       "      <td>0.757231</td>\n",
       "      <td>20024.783430</td>\n",
       "    </tr>\n",
       "    <tr>\n",
       "      <th>XG Boost</th>\n",
       "      <td>0.762403</td>\n",
       "      <td>19810.336567</td>\n",
       "    </tr>\n",
       "    <tr>\n",
       "      <th>ADA Boost</th>\n",
       "      <td>0.753849</td>\n",
       "      <td>20163.774717</td>\n",
       "    </tr>\n",
       "  </tbody>\n",
       "</table>\n",
       "</div>"
      ],
      "text/plain": [
       "                     Accuracy          RMSE\n",
       "Logistic Regression  0.561710  26906.158717\n",
       "Decision Tree        0.560389  26946.671355\n",
       "Extra Tree           0.718690  21555.770946\n",
       "Random Forest        0.741013  20682.840516\n",
       "Gradient Boost       0.757231  20024.783430\n",
       "XG Boost             0.762403  19810.336567\n",
       "ADA Boost            0.753849  20163.774717"
      ]
     },
     "execution_count": 98,
     "metadata": {},
     "output_type": "execute_result"
    }
   ],
   "source": [
    "performance_df"
   ]
  },
  {
   "cell_type": "code",
   "execution_count": 99,
   "metadata": {},
   "outputs": [
    {
     "data": {
      "text/html": [
       "<div>\n",
       "<style scoped>\n",
       "    .dataframe tbody tr th:only-of-type {\n",
       "        vertical-align: middle;\n",
       "    }\n",
       "\n",
       "    .dataframe tbody tr th {\n",
       "        vertical-align: top;\n",
       "    }\n",
       "\n",
       "    .dataframe thead th {\n",
       "        text-align: right;\n",
       "    }\n",
       "</style>\n",
       "<table border=\"1\" class=\"dataframe\">\n",
       "  <thead>\n",
       "    <tr style=\"text-align: right;\">\n",
       "      <th></th>\n",
       "      <th>Accuracy</th>\n",
       "      <th>RMSE</th>\n",
       "    </tr>\n",
       "  </thead>\n",
       "  <tbody>\n",
       "    <tr>\n",
       "      <th>XG Boost</th>\n",
       "      <td>0.762403</td>\n",
       "      <td>19810.336567</td>\n",
       "    </tr>\n",
       "    <tr>\n",
       "      <th>Gradient Boost</th>\n",
       "      <td>0.757231</td>\n",
       "      <td>20024.783430</td>\n",
       "    </tr>\n",
       "    <tr>\n",
       "      <th>ADA Boost</th>\n",
       "      <td>0.753849</td>\n",
       "      <td>20163.774717</td>\n",
       "    </tr>\n",
       "    <tr>\n",
       "      <th>Random Forest</th>\n",
       "      <td>0.741013</td>\n",
       "      <td>20682.840516</td>\n",
       "    </tr>\n",
       "    <tr>\n",
       "      <th>Extra Tree</th>\n",
       "      <td>0.718690</td>\n",
       "      <td>21555.770946</td>\n",
       "    </tr>\n",
       "    <tr>\n",
       "      <th>Logistic Regression</th>\n",
       "      <td>0.561710</td>\n",
       "      <td>26906.158717</td>\n",
       "    </tr>\n",
       "    <tr>\n",
       "      <th>Decision Tree</th>\n",
       "      <td>0.560389</td>\n",
       "      <td>26946.671355</td>\n",
       "    </tr>\n",
       "  </tbody>\n",
       "</table>\n",
       "</div>"
      ],
      "text/plain": [
       "                     Accuracy          RMSE\n",
       "XG Boost             0.762403  19810.336567\n",
       "Gradient Boost       0.757231  20024.783430\n",
       "ADA Boost            0.753849  20163.774717\n",
       "Random Forest        0.741013  20682.840516\n",
       "Extra Tree           0.718690  21555.770946\n",
       "Logistic Regression  0.561710  26906.158717\n",
       "Decision Tree        0.560389  26946.671355"
      ]
     },
     "execution_count": 99,
     "metadata": {},
     "output_type": "execute_result"
    }
   ],
   "source": [
    "performance_df.sort_values(by='RMSE')"
   ]
  },
  {
   "cell_type": "code",
   "execution_count": 100,
   "metadata": {},
   "outputs": [
    {
     "data": {
      "text/plain": [
       "XG Boost               0.762403\n",
       "Gradient Boost         0.757231\n",
       "ADA Boost              0.753849\n",
       "Random Forest          0.741013\n",
       "Extra Tree             0.718690\n",
       "Logistic Regression    0.561710\n",
       "Decision Tree          0.560389\n",
       "Name: Accuracy, dtype: float64"
      ]
     },
     "execution_count": 100,
     "metadata": {},
     "output_type": "execute_result"
    }
   ],
   "source": [
    "performance_df.Accuracy.sort_values(ascending=False)"
   ]
  },
  {
   "cell_type": "code",
   "execution_count": 101,
   "metadata": {},
   "outputs": [
    {
     "data": {
      "text/plain": [
       "Text(0.5, 1.0, 'RMSE')"
      ]
     },
     "execution_count": 101,
     "metadata": {},
     "output_type": "execute_result"
    },
    {
     "data": {
      "image/png": "[encoded data removed]",
      "text/plain": [
       "<Figure size 1512x432 with 2 Axes>"
      ]
     },
     "metadata": {
      "needs_background": "light"
     },
     "output_type": "display_data"
    }
   ],
   "source": [
    "plt.figure(figsize=(21,6))\n",
    "plt.subplot(1,2,1)\n",
    "sns.barplot(x=performance_df.Accuracy.sort_values(ascending=False).values,y=performance_df.Accuracy.sort_values(ascending=False).index)\n",
    "plt.title('Accuracy')\n",
    "plt.subplot(1,2,2)\n",
    "sns.barplot(x=performance_df.RMSE.sort_values(ascending=True).values,y=performance_df.RMSE.sort_values(ascending=True).index)\n",
    "plt.title('RMSE')"
   ]
  },
  {
   "cell_type": "markdown",
   "metadata": {},
   "source": [
    "# Voting Classifier\n",
    "<a class=\"anchor\" id=\"Voting\"></a>"
   ]
  },
  {
   "cell_type": "code",
   "execution_count": 103,
   "metadata": {},
   "outputs": [],
   "source": [
    "from sklearn.ensemble import VotingRegressor\n",
    "\n",
    "model_list = [('gb',gb),('ab',ab),('xgb',xg)]\n",
    "# create the sub models\n",
    "estimators = model_list\n",
    "\n",
    "# create the ensemble model\n",
    "ensemble = VotingRegressor(estimators)\n",
    "ensemble.fit(X_train,Y_train)\n",
    "Y_pred=ensemble.predict(X_test)"
   ]
  },
  {
   "cell_type": "code",
   "execution_count": 104,
   "metadata": {},
   "outputs": [
    {
     "name": "stdout",
     "output_type": "stream",
     "text": [
      "Score -> 0.7694563179707069\n",
      "RMSE -> 19514.060259133083\n"
     ]
    }
   ],
   "source": [
    "vcacc = r2_score(Y_test,Y_pred)\n",
    "print('Score ->',vcacc)\n",
    "\n",
    "vcrmse = np.sqrt(mean_squared_error(Y_test,Y_pred))\n",
    "print('RMSE ->',vcrmse)"
   ]
  },
  {
   "cell_type": "code",
   "execution_count": 105,
   "metadata": {},
   "outputs": [
    {
     "data": {
      "text/plain": [
       "(0.0, 310000.0)"
      ]
     },
     "execution_count": 105,
     "metadata": {},
     "output_type": "execute_result"
    },
    {
     "data": {
      "image/png": "[encoded data removed]",
      "text/plain": [
       "<Figure size 432x288 with 1 Axes>"
      ]
     },
     "metadata": {
      "needs_background": "light"
     },
     "output_type": "display_data"
    }
   ],
   "source": [
    "sns.scatterplot(x=Y_test,y=Y_pred)\n",
    "plt.xlim(0,410000)\n",
    "plt.ylim(0,310000)"
   ]
  },
  {
   "cell_type": "code",
   "execution_count": 106,
   "metadata": {},
   "outputs": [
    {
     "data": {
      "text/plain": [
       "<AxesSubplot:xlabel='Rent/Month', ylabel='Density'>"
      ]
     },
     "execution_count": 106,
     "metadata": {},
     "output_type": "execute_result"
    },
    {
     "data": {
      "image/png": "[encoded data removed]",
      "text/plain": [
       "<Figure size 432x288 with 1 Axes>"
      ]
     },
     "metadata": {
      "needs_background": "light"
     },
     "output_type": "display_data"
    }
   ],
   "source": [
    "sns.distplot(Y_test-Y_pred)"
   ]
  },
  {
   "cell_type": "markdown",
   "metadata": {},
   "source": [
    "# Dump Model\n",
    "<a class=\"anchor\" id=\"Dump\"></a>"
   ]
  },
  {
   "cell_type": "code",
   "execution_count": null,
   "metadata": {},
   "outputs": [],
   "source": [
    "import pickle\n",
    "pickle.dump(ensemble,open('FinalModel.pkl','wb'))\n",
    "print('Done')"
   ]
  },
  {
   "cell_type": "code",
   "execution_count": null,
   "metadata": {},
   "outputs": [],
   "source": []
  }
 ],
 "metadata": {
  "kernelspec": {
   "display_name": "Python 3",
   "language": "python",
   "name": "python3"
  },
  "language_info": {
   "codemirror_mode": {
    "name": "ipython",
    "version": 3
   },
   "file_extension": ".py",
   "mimetype": "text/x-python",
   "name": "python",
   "nbconvert_exporter": "python",
   "pygments_lexer": "ipython3",
   "version": "3.8.5"
  }
 },
 "nbformat": 4,
 "nbformat_minor": 4
}
